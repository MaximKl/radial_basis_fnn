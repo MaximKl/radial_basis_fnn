{
 "cells": [
  {
   "cell_type": "markdown",
   "metadata": {},
   "source": [
    "ESS Dataset without visualizations. It's leftover for more convinient testing with different parameters"
   ]
  },
  {
   "cell_type": "code",
   "execution_count": 1,
   "metadata": {},
   "outputs": [
    {
     "name": "stdout",
     "output_type": "stream",
     "text": [
      "Empty fields: 0\n"
     ]
    }
   ],
   "source": [
    "import rbfn\n",
    "import numpy as np\n",
    "import pandas as pd\n",
    "import sklearn.metrics as metrics\n",
    "from sklearn.metrics import accuracy_score\n",
    "from sklearn.metrics import recall_score\n",
    "from sklearn.metrics import f1_score\n",
    "from sklearn.metrics import precision_score\n",
    "from sklearn.model_selection import train_test_split\n",
    "import warnings\n",
    "warnings.filterwarnings('ignore')\n",
    "\n",
    "ess = pd.read_csv(\"./data/ESS10.csv\")\n",
    "indexes = pd.read_csv(\"./data/indexes.csv\")\n",
    "ess[indexes[\"shortn\"]].to_csv(\"./data/cleared_input.csv\", index=False)\n",
    "data = pd.read_csv(\"./data/cleared_input.csv\")\n",
    "# data = data[data[:].isin([77,88,99]) == False].dropna()\n",
    "data = data[data[\"cntry\"].isin(['BE','CH','EE','FI','FR','CZ','GB','GR','HR','HU','IE','IS','IT','LT','ME','MK','NL','PT','SI','SK'])== False].dropna()\n",
    "print(\"Empty fields:\", data.isnull().sum().sum())\n"
   ]
  },
  {
   "cell_type": "code",
   "execution_count": 2,
   "metadata": {},
   "outputs": [],
   "source": [
    "X = np.array(data.loc[:, data.columns != \"cntry\"])\n",
    "y = np.array(pd.factorize(data[\"cntry\"])[0])\n"
   ]
  },
  {
   "cell_type": "code",
   "execution_count": 3,
   "metadata": {},
   "outputs": [
    {
     "name": "stdout",
     "output_type": "stream",
     "text": [
      "Train prediction accuracy:  0.652437178322737\n",
      "Train prediction loss:  0.3475628216772631\n",
      "\n",
      "Test prediction accuracy:  0.6815980629539952\n",
      "Test prediction loss:  0.31840193704600483\n",
      "Test precision score:  0.4645759194226384\n",
      "Test recall score: 0.6815980629539952\n",
      "Test F1 score: 0.5525409783197974\n",
      "Confusion matrix:\n",
      "[[563   0]\n",
      " [263   0]]\n",
      "\n",
      "Normalized confusion matrix:\n",
      "[1. 0.]\n",
      "[1. 0.]\n"
     ]
    }
   ],
   "source": [
    "X_train, X_test, y_train, y_test = train_test_split(X, y, test_size=0.2, random_state=42)\n",
    "labels, centers, output_weights = rbfn.train_rbf_network(X_train, y_train, 2)\n",
    "\n",
    "rbf_train_predictions = rbfn.predict_rbf_network(X_train, centers, output_weights)\n",
    "print(\"Train prediction accuracy: \", accuracy_score(y_train, rbf_train_predictions))\n",
    "print(\"Train prediction loss: \",rbfn.get_loss(rbf_train_predictions, y_train))\n",
    "\n",
    "rbf_test_predictions = rbfn.predict_rbf_network(X_test, centers, output_weights)\n",
    "print(\"\\nTest prediction accuracy: \", accuracy_score(y_test, rbf_test_predictions))\n",
    "print(\"Test prediction loss: \", rbfn.get_loss(rbf_test_predictions, y_test))\n",
    "print(\"Test precision score: \", precision_score(y_test, rbf_test_predictions, average='weighted'))\n",
    "print(\"Test recall score:\", recall_score(y_test, rbf_test_predictions, average='weighted'))\n",
    "print(\"Test F1 score:\", f1_score(y_test, rbf_test_predictions, average='weighted'))\n",
    "\n",
    "confusion = metrics.confusion_matrix(y_test, rbf_test_predictions)\n",
    "print(f\"Confusion matrix:\\n{confusion}\")\n",
    "print(f\"\\nNormalized confusion matrix:\")\n",
    "for row in confusion:\n",
    "    if row.sum()!=0:\n",
    "        print(row / row.sum())"
   ]
  }
 ],
 "metadata": {
  "kernelspec": {
   "display_name": "Python 3",
   "language": "python",
   "name": "python3"
  },
  "language_info": {
   "codemirror_mode": {
    "name": "ipython",
    "version": 3
   },
   "file_extension": ".py",
   "mimetype": "text/x-python",
   "name": "python",
   "nbconvert_exporter": "python",
   "pygments_lexer": "ipython3",
   "version": "3.12.0"
  }
 },
 "nbformat": 4,
 "nbformat_minor": 2
}
